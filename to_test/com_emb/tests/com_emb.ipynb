{
 "cells": [
  {
   "cell_type": "markdown",
   "metadata": {},
   "source": [
    "# Hierarchical Network Embedding for Community Detection"
   ]
  },
  {
   "cell_type": "markdown",
   "metadata": {},
   "source": [
    "## Imports"
   ]
  },
  {
   "cell_type": "code",
   "execution_count": 105,
   "metadata": {},
   "outputs": [],
   "source": [
    "import time\n",
    "import collections\n",
    "\n",
    "import numpy as np\n",
    "\n",
    "import torch, torch.nn as nn, torch.autograd as autograd\n",
    "import torch.utils.data\n",
    "from torch.distributions import multivariate_normal\n",
    "\n",
    "from dgl import DGLGraph\n",
    "from dgl.data import citation_graph as citegrh\n",
    "\n",
    "import networkx as nx\n",
    "\n",
    "import matplotlib.pyplot as plt"
   ]
  },
  {
   "cell_type": "markdown",
   "metadata": {},
   "source": [
    "## Constants"
   ]
  },
  {
   "cell_type": "code",
   "execution_count": 5,
   "metadata": {},
   "outputs": [],
   "source": [
    "N    = 2708\n",
    "D    = 400\n",
    "K    = 7\n",
    "eps  = 1e-6\n",
    "beta = 1e-4\n",
    "\n",
    "batch_size = 300\n",
    "\n",
    "# FIXME: restrict propbability density functions\n",
    "max_density = 2."
   ]
  },
  {
   "cell_type": "markdown",
   "metadata": {},
   "source": [
    "## Utility functions"
   ]
  },
  {
   "cell_type": "code",
   "execution_count": 106,
   "metadata": {},
   "outputs": [],
   "source": [
    "def vectorize(row):\n",
    "    return np.array(row.split(\" \")).astype(float)\n",
    "\n",
    "def skipgram2dict(skipgram):\n",
    "    d = dict(skipgram[i].split(\" \", 1) for i in range(len(skipgram)))\n",
    "    d = {int(num): vectorize(v) for num, v in d.items()}\n",
    "    \n",
    "    return collections.OrderedDict(sorted(d.items()))\n",
    "\n",
    "def normalize(v):\n",
    "    min_v = torch.min(v)\n",
    "    range_v = torch.max(v) - min_v\n",
    "    \n",
    "    if range_v > 0:\n",
    "        return (v - min_v) / range_v\n",
    "    else:\n",
    "        return torch.zeros(vector.size())"
   ]
  },
  {
   "cell_type": "code",
   "execution_count": 38,
   "metadata": {},
   "outputs": [],
   "source": [
    "#!deepwalk --help\n",
    "\n",
    "#!deepwalk --input ../graphsage/cora/cora.adjlist --representation-size 400 --walk-length 40 --output ../graphsage/cora/cora.embeddings"
   ]
  },
  {
   "cell_type": "markdown",
   "metadata": {},
   "source": [
    "## Data preparation"
   ]
  },
  {
   "cell_type": "code",
   "execution_count": 107,
   "metadata": {},
   "outputs": [
    {
     "name": "stdout",
     "output_type": "stream",
     "text": [
      "Number of nodes: 2708 in 400-dimensional representation\n"
     ]
    }
   ],
   "source": [
    "with open(\"../graphsage/cora/cora.embeddings\", \"r\") as f:\n",
    "    skipgram = f.readlines()\n",
    "    \n",
    "print(\"Number of nodes: {} in {}-dimensional representation\".format(*skipgram.pop(0).split()))\n",
    "    \n",
    "dataset = skipgram2dict(skipgram)"
   ]
  },
  {
   "cell_type": "markdown",
   "metadata": {},
   "source": [
    "## Mixed-community membership"
   ]
  },
  {
   "cell_type": "code",
   "execution_count": 112,
   "metadata": {},
   "outputs": [],
   "source": [
    "def KMeans(x, K, Niter=10, verbose=False):\n",
    "    N, D = x.shape  # Number of samples, dimension of the ambient space\n",
    "\n",
    "    # K-means loop:\n",
    "    # - x  is the point cloud,\n",
    "    # - cl is the vector of class labels\n",
    "    # - c  is the cloud of cluster centroids\n",
    "    start = time.time()\n",
    "    c     = x[:K, :].clone()  # Simplistic random initialization\n",
    "    x_i   = torch.tensor(x[:, None, :])  # (Npoints, 1, D)\n",
    "\n",
    "    for i in range(Niter):\n",
    "\n",
    "        c_j  = torch.tensor(c[None, :, :])  # (1, Nclusters, D)\n",
    "        D_ij = ((x_i - c_j) ** 2).sum(-1)  # (Npoints, Nclusters) symbolic matrix of squared distances\n",
    "        cl   = D_ij.argmin(dim=1).long().view(-1)  # Points -> Nearest cluster\n",
    "        pi   = 1 - normalize(D_ij)\n",
    "\n",
    "        Ncl = torch.bincount(cl).float()  # Class weights\n",
    "        for d in range(D):  # Compute the cluster centroids with torch.bincount:\n",
    "            c[:, d] = torch.bincount(cl, weights=x[:, d]) / Ncl\n",
    "\n",
    "    end = time.time()\n",
    "\n",
    "    if verbose:\n",
    "        print(\"K-means example with {:,} points in dimension {:,}, K = {:,}:\".format(N, D, K))\n",
    "        print('Timing for {} iterations: {:.5f}s = {} x {:.5f}s\\n'.format(\n",
    "                Niter, end - start, Niter, (end - start) / Niter))\n",
    "\n",
    "    return cl, pi"
   ]
  },
  {
   "cell_type": "code",
   "execution_count": 163,
   "metadata": {},
   "outputs": [],
   "source": [
    "model = nn.Sequential(\n",
    "    nn.Linear(400, 1024),\n",
    "    nn.Dropout(0.05),\n",
    "    nn.ReLU(),\n",
    "    nn.Linear(1024, 512),\n",
    "    nn.Dropout(0.05),\n",
    "    nn.ReLU(),\n",
    "    nn.Linear(512, 256),\n",
    "    nn.Dropout(0.05),\n",
    "    nn.ReLU(),\n",
    "    nn.Linear(256, 400),\n",
    "    nn.Softmax()\n",
    ")"
   ]
  },
  {
   "cell_type": "code",
   "execution_count": 132,
   "metadata": {},
   "outputs": [],
   "source": [
    "train_batch_gen  = torch.utils.data.DataLoader(dataset,\n",
    "                                              batch_size=batch_size,\n",
    "                                              shuffle=True,\n",
    "                                              num_workers=1)"
   ]
  },
  {
   "cell_type": "markdown",
   "metadata": {},
   "source": [
    "## [ComE](https://sentic.net/community-embedding.pdf) algorithm"
   ]
  },
  {
   "cell_type": "code",
   "execution_count": 166,
   "metadata": {},
   "outputs": [],
   "source": [
    "def compute_loss(model, X_batch, pi, psi, Sigma):\n",
    "    X_batch = model(X_batch)\n",
    "    # Probabilities (X_batch, K)\n",
    "    log_probs         = compute_probs(X_batch, psi, Sigma)\n",
    "    probs             = torch.clamp(log_probs.exp(), min=eps)\n",
    "    # Gamma (X_batch, K)\n",
    "    gamma             = compute_gamma(pi, probs)\n",
    "    # N (1, K)\n",
    "    N                 = gamma.sum(dim=0, keepdim=True)\n",
    "    # Pi (1, K)\n",
    "    pi                = N / X_batch.size(0)\n",
    "    # Psi (K)\n",
    "    psi               = []\n",
    "    # Sigma (K)\n",
    "    Sigma             = []\n",
    "    \n",
    "    for k in range(K):\n",
    "        psi_k   = compute_mean_k(N[:, k], gamma[:, k], X_batch)\n",
    "        Sigma_k = compute_cov_k(N[:, k], gamma[:, k], X_batch, psi_k)\n",
    "        \n",
    "        psi.append(psi_k.view(X_batch.size()[1]))\n",
    "        Sigma.append(torch.diagflat(Sigma_k))\n",
    "    \n",
    "    loss = -(beta / K) * torch.sum(torch.sum(torch.log(pi * probs), dim=1, keepdim=True))\n",
    "    \n",
    "    return psi, Sigma, loss\n",
    "\n",
    "def compute_probs(X_batch, psi, Sigma):\n",
    "    probs = torch.FloatTensor()\n",
    "    \n",
    "    for psi_k, Sigma_k in list(zip(psi, Sigma)):\n",
    "        normal_k = multivariate_normal.MultivariateNormal(psi_k, Sigma_k)\n",
    "        # Probability (X_batch, 1)\n",
    "        prob_k   = normal_k.log_prob(X_batch).view(X_batch.size()[0], 1)\n",
    "        prob_k   = torch.clamp(prob_k, max=max_density)\n",
    "        probs    = torch.cat((probs, prob_k), dim=1)\n",
    "        \n",
    "    return probs\n",
    "\n",
    "def compute_gamma(pi, probs):\n",
    "    gamma_numerator   = pi * probs\n",
    "    gamma_denominator = torch.sum(gamma_numerator, dim=1, keepdim=True)\n",
    "    \n",
    "    return torch.div(gamma_numerator, gamma_denominator)\n",
    "    \n",
    "def compute_mean_k(N_k, gamma_k, X_batch):\n",
    "    return (1 / N_k) * torch.sum(gamma_k.view(-1, 1) * X_batch, dim=0, keepdim=True)\n",
    "\n",
    "def compute_cov_k(N_k, gamma_k, X_batch, psi_k):\n",
    "    return (1 / N_k) * torch.sum(gamma_k.view(-1, 1) * (X_batch - psi_k) * (X_batch - psi_k), dim=0, keepdim=True) + eps\n",
    "\n",
    "def reset_mean(X_batch):\n",
    "    data    = X_batch.numpy()\n",
    "    psi_k   = np.mean(data, axis=0)\n",
    "    psi_k   = torch.tensor(psi_k, dtype=torch.float, requires_grad=True)\n",
    "    \n",
    "    return psi_k\n",
    "\n",
    "def reset_cov(X_batch):\n",
    "    data    = X_batch.numpy()\n",
    "    Sigma_k = np.cov(data, rowvar=False)\n",
    "    # Ensure that the covariance matrix is positive semi-definite\n",
    "    Sigma_k = np.add(Sigma_k, np.eye(400) * eps)\n",
    "    Sigma_k = torch.tensor(Sigma_k, dtype=torch.float, requires_grad=True)\n",
    "    \n",
    "    return Sigma_k"
   ]
  },
  {
   "cell_type": "code",
   "execution_count": 167,
   "metadata": {},
   "outputs": [
    {
     "name": "stdout",
     "output_type": "stream",
     "text": [
      "Epoch: 0\n"
     ]
    },
    {
     "name": "stderr",
     "output_type": "stream",
     "text": [
      "/usr/local/anaconda3/lib/python3.7/site-packages/ipykernel_launcher.py:10: UserWarning: To copy construct from a tensor, it is recommended to use sourceTensor.clone().detach() or sourceTensor.clone().detach().requires_grad_(True), rather than torch.tensor(sourceTensor).\n",
      "  # Remove the CWD from sys.path while we load stuff.\n",
      "/usr/local/anaconda3/lib/python3.7/site-packages/ipykernel_launcher.py:14: UserWarning: To copy construct from a tensor, it is recommended to use sourceTensor.clone().detach() or sourceTensor.clone().detach().requires_grad_(True), rather than torch.tensor(sourceTensor).\n",
      "  \n"
     ]
    },
    {
     "name": "stdout",
     "output_type": "stream",
     "text": [
      "Training loss (in-iteration): \t0.053406\n"
     ]
    },
    {
     "data": {
      "text/plain": [
       "Sequential(\n",
       "  (0): Linear(in_features=400, out_features=1024, bias=True)\n",
       "  (1): Dropout(p=0.05, inplace=False)\n",
       "  (2): ReLU()\n",
       "  (3): Linear(in_features=1024, out_features=512, bias=True)\n",
       "  (4): Dropout(p=0.05, inplace=False)\n",
       "  (5): ReLU()\n",
       "  (6): Linear(in_features=512, out_features=256, bias=True)\n",
       "  (7): Dropout(p=0.05, inplace=False)\n",
       "  (8): ReLU()\n",
       "  (9): Linear(in_features=256, out_features=400, bias=True)\n",
       "  (10): Softmax(dim=None)\n",
       ")"
      ]
     },
     "execution_count": 167,
     "metadata": {},
     "output_type": "execute_result"
    }
   ],
   "source": [
    "torch.manual_seed(1234)\n",
    "\n",
    "psi   = []\n",
    "Sigma = []\n",
    "\n",
    "num_epochs = 1\n",
    "train_loss = []\n",
    "\n",
    "opt = torch.optim.SGD(model.parameters(), lr=0.025, momentum=0.5)\n",
    "\n",
    "train_batch_gen_iter = iter(train_batch_gen)\n",
    "\n",
    "for i in range(K):\n",
    "    X_batch = next(train_batch_gen_iter)\n",
    "    psi_k   = reset_mean(X_batch.float())\n",
    "    Sigma_k = reset_cov(X_batch.float())\n",
    "    \n",
    "    psi.append(psi_k)\n",
    "    Sigma.append(Sigma_k)\n",
    "\n",
    "for epoch in range(num_epochs):\n",
    "    model.train(True)\n",
    "    \n",
    "    print(\"Epoch: {}\".format(epoch))\n",
    "    \n",
    "    for X_batch in train_batch_gen:        \n",
    "        with autograd.detect_anomaly():\n",
    "            # Obtain mixed-community membership\n",
    "            labels, pi       = KMeans(X_batch, K)\n",
    "            # Update pi, mean, cov\n",
    "            psi, Sigma, loss = compute_loss(model, X_batch.float(), pi.float(), psi, Sigma)\n",
    "            \n",
    "            loss.backward(retain_graph=True)\n",
    "            \n",
    "            opt.step()\n",
    "            opt.zero_grad()\n",
    "            \n",
    "        train_loss.append(loss.data.cpu().numpy())\n",
    "        \n",
    "    print(\"Training loss (in-iteration): \\t{:.6f}\".format(\n",
    "        np.mean(train_loss[-len(dataset) // batch_size :]))\n",
    "    )\n",
    "\n",
    "model.train(False)"
   ]
  },
  {
   "cell_type": "markdown",
   "metadata": {},
   "source": [
    "## Tests"
   ]
  },
  {
   "cell_type": "code",
   "execution_count": 168,
   "metadata": {},
   "outputs": [
    {
     "name": "stderr",
     "output_type": "stream",
     "text": [
      "/usr/local/anaconda3/lib/python3.7/site-packages/ipykernel_launcher.py:10: UserWarning: To copy construct from a tensor, it is recommended to use sourceTensor.clone().detach() or sourceTensor.clone().detach().requires_grad_(True), rather than torch.tensor(sourceTensor).\n",
      "  # Remove the CWD from sys.path while we load stuff.\n",
      "/usr/local/anaconda3/lib/python3.7/site-packages/ipykernel_launcher.py:14: UserWarning: To copy construct from a tensor, it is recommended to use sourceTensor.clone().detach() or sourceTensor.clone().detach().requires_grad_(True), rather than torch.tensor(sourceTensor).\n",
      "  \n"
     ]
    },
    {
     "name": "stdout",
     "output_type": "stream",
     "text": [
      "192 746 632 663 123 150 202\n"
     ]
    }
   ],
   "source": [
    "e      = list(dataset.values())\n",
    "x      = torch.tensor(e).float()\n",
    "output = model(x)\n",
    "\n",
    "# log_probs       = compute_probs(x, psi, Sigma)\n",
    "# probs           = log_probs.exp()\n",
    "labels, pi      = KMeans(x, K, Niter=100)\n",
    "labels2, pi2    = KMeans(output, K, Niter=100)\n",
    "\n",
    "labels          = labels.detach().numpy()\n",
    "labels2         = labels2.detach().numpy()\n",
    "\n",
    "print(np.sum(labels==0),\n",
    "      np.sum(labels==1),\n",
    "      np.sum(labels==2),\n",
    "      np.sum(labels==3),\n",
    "      np.sum(labels==4),\n",
    "      np.sum(labels==5),\n",
    "      np.sum(labels==6))"
   ]
  },
  {
   "cell_type": "code",
   "execution_count": 72,
   "metadata": {},
   "outputs": [],
   "source": [
    "data = citegrh.load_cora()\n",
    "G    = DGLGraph(data.graph)\n",
    "kn   = G.to_networkx()\n",
    "pos  = nx.spring_layout(kn)"
   ]
  },
  {
   "cell_type": "code",
   "execution_count": 169,
   "metadata": {},
   "outputs": [
    {
     "data": {
      "image/png": "[encoded data removed]",
      "text/plain": [
       "<Figure size 432x288 with 1 Axes>"
      ]
     },
     "metadata": {
      "needs_background": "light"
     },
     "output_type": "display_data"
    }
   ],
   "source": [
    "nc = nx.draw_networkx_nodes(kn, pos, node_color=labels,\n",
    "                            with_labels=False, node_size=0.5, cmap=plt.cm.jet)"
   ]
  },
  {
   "cell_type": "code",
   "execution_count": 172,
   "metadata": {},
   "outputs": [
    {
     "data": {
      "image/png": "[encoded data removed]",
      "text/plain": [
       "<Figure size 432x288 with 1 Axes>"
      ]
     },
     "metadata": {
      "needs_background": "light"
     },
     "output_type": "display_data"
    }
   ],
   "source": [
    "nc = nx.draw_networkx_nodes(kn, pos, node_color=labels2,\n",
    "                            with_labels=False, node_size=0.5, cmap=plt.cm.jet)"
   ]
  },
  {
   "cell_type": "code",
   "execution_count": null,
   "metadata": {},
   "outputs": [],
   "source": []
  }
 ],
 "metadata": {
  "kernelspec": {
   "display_name": "Python 3",
   "language": "python",
   "name": "python3"
  },
  "language_info": {
   "codemirror_mode": {
    "name": "ipython",
    "version": 3
   },
   "file_extension": ".py",
   "mimetype": "text/x-python",
   "name": "python",
   "nbconvert_exporter": "python",
   "pygments_lexer": "ipython3",
   "version": "3.7.3"
  }
 },
 "nbformat": 4,
 "nbformat_minor": 2
}
